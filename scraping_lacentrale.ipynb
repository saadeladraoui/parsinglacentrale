{
 "cells": [
  {
   "cell_type": "markdown",
   "metadata": {},
   "source": [
    "### Exemple de crawling et scraping du site web LaCentrale"
   ]
  },
  {
   "cell_type": "code",
   "execution_count": 2,
   "metadata": {
    "collapsed": true
   },
   "outputs": [],
   "source": [
    "import argparse, os, time\n",
    "import urlparse, random\n",
    "from selenium import webdriver\n",
    "from selenium.webdriver.common.keys import Keys\n",
    "from bs4 import BeautifulSoup\n",
    "import csv\n",
    "import re\n",
    "import json"
   ]
  },
  {
   "cell_type": "markdown",
   "metadata": {},
   "source": [
    "#### Ouverture d'un Web Driver Chrome\n",
    "Le web driver sera utilisé pour le crawl des pages du site web."
   ]
  },
  {
   "cell_type": "code",
   "execution_count": 3,
   "metadata": {
    "collapsed": true
   },
   "outputs": [],
   "source": [
    "browser = webdriver.Chrome(\"E:/chromedriver.exe\")"
   ]
  },
  {
   "cell_type": "markdown",
   "metadata": {},
   "source": [
    "On détermine pour notre exemple la catégorie, la marque et l'année en tant que constantes."
   ]
  },
  {
   "cell_type": "code",
   "execution_count": 4,
   "metadata": {
    "collapsed": false
   },
   "outputs": [],
   "source": [
    "categorie = \"40\" ## 40 refère à la catégorie Citadine\n",
    "marque = \"AUDI\"\n",
    "millesime = \"2014\""
   ]
  },
  {
   "cell_type": "markdown",
   "metadata": {},
   "source": [
    "On ouvre, avec le web driver, le lien du formulaire de recherche en donnant par requête GET la catégorie et marque pour voir les modèles disponibles."
   ]
  },
  {
   "cell_type": "code",
   "execution_count": 5,
   "metadata": {
    "collapsed": false
   },
   "outputs": [],
   "source": [
    "link = \"http://www.lacentrale.fr/Iframe_quot_auto.php?SS_CATEGORIE=\"+categorie+\"&marque=\"+marque+\"&modele=&millesime=&kindOfCustomer=vendeur\"\n",
    "browser.get(link)"
   ]
  },
  {
   "cell_type": "markdown",
   "metadata": {},
   "source": [
    "#### Scraping des modèles de la marque AUDI, catégorie Citadine\n",
    "Scraping simple des modèles de voiture disponible pour telles catégorie et marque."
   ]
  },
  {
   "cell_type": "code",
   "execution_count": 6,
   "metadata": {
    "collapsed": false
   },
   "outputs": [
    {
     "name": "stderr",
     "output_type": "stream",
     "text": [
      "C:\\Users\\TONPC\\Anaconda2\\lib\\site-packages\\bs4\\__init__.py:166: UserWarning: No parser was explicitly specified, so I'm using the best available HTML parser for this system (\"lxml\"). This usually isn't a problem, but if you run this code on another system, or in a different virtual environment, it may use a different parser and behave differently.\n",
      "\n",
      "To get rid of this warning, change this:\n",
      "\n",
      " BeautifulSoup([your markup])\n",
      "\n",
      "to this:\n",
      "\n",
      " BeautifulSoup([your markup], \"lxml\")\n",
      "\n",
      "  markup_type=markup_type))\n"
     ]
    }
   ],
   "source": [
    "page = BeautifulSoup(browser.page_source)\n",
    "models_id = page.find(id=\"modele\")"
   ]
  },
  {
   "cell_type": "code",
   "execution_count": 7,
   "metadata": {
    "collapsed": false
   },
   "outputs": [
    {
     "name": "stdout",
     "output_type": "stream",
     "text": [
      "Les modèle disponibles pour AUDI sont :\n",
      "7649880|A1\n",
      "18705064|S1\n"
     ]
    }
   ],
   "source": [
    "print \"Les modèle disponibles pour \" + marque + \" sont :\"\n",
    "i=0\n",
    "for model in models_id.find_all('option'):\n",
    "    if i==0:\n",
    "        i=i+1\n",
    "        continue\n",
    "    print model[\"value\"]\n",
    "    "
   ]
  },
  {
   "cell_type": "markdown",
   "metadata": {},
   "source": [
    "On fixe le modèle qu'on veut et on valide le formulaire"
   ]
  },
  {
   "cell_type": "code",
   "execution_count": 8,
   "metadata": {
    "collapsed": true
   },
   "outputs": [],
   "source": [
    "modele = \"7649880|A1\""
   ]
  },
  {
   "cell_type": "code",
   "execution_count": 9,
   "metadata": {
    "collapsed": false
   },
   "outputs": [],
   "source": [
    "link = \"http://www.lacentrale.fr/Iframe_quot_auto.php?SS_CATEGORIE=\"+categorie+\"&marque=\"+marque+\"&modele=\"+modele+\"&millesime=\"+millesime+\"&kindOfCustomer=vendeur\"\n",
    "browser.get(link)"
   ]
  },
  {
   "cell_type": "code",
   "execution_count": 10,
   "metadata": {
    "collapsed": true
   },
   "outputs": [],
   "source": [
    "form = browser.find_element_by_css_selector('a.btnRed')\n",
    "form.click()"
   ]
  },
  {
   "cell_type": "markdown",
   "metadata": {},
   "source": [
    "#### Extraction de noms des voitures et liens vers leur cote\n",
    "La fonction suivante extrait les noms des versions de toutes les voitures Audi A1 disponible ainsi que le lien vers la page de leur cote et stocke le tout dans un fichier .csv. "
   ]
  },
  {
   "cell_type": "code",
   "execution_count": 12,
   "metadata": {
    "collapsed": true
   },
   "outputs": [],
   "source": [
    "def extract_car_links():\n",
    "    page = BeautifulSoup(browser.page_source)\n",
    "    listingCote = page.find('div', {'class':\"listingCoteResult\"})\n",
    "    \n",
    "    with open('links__cars.csv', 'wb') as f:\n",
    "        writer = csv.writer(f)\n",
    "        writer.writerow([\"name\",\"link\"])\n",
    "        links = page.find(id=\"results\")\n",
    "        cars_links= [[cars.find('h3').get_text(),cars.find('a')[\"href\"]]for cars in listingCote.find_all('div', {'class':\"listingCoteLine auto\"})]\n",
    "        writer.writerows(cars_links)\n",
    "    pass"
   ]
  },
  {
   "cell_type": "code",
   "execution_count": 13,
   "metadata": {
    "collapsed": true
   },
   "outputs": [],
   "source": [
    "extract_car_links()"
   ]
  },
  {
   "cell_type": "markdown",
   "metadata": {},
   "source": [
    "#### Extractions de la cote de la voiture avec kilométrage\n",
    "La fonction suivante extrait la cote de la voiture selon un kilométrage déterminé depuis la page spécifique à la voiture puis constitue un objet json contenant les informations de la voitures (marque, modele, nom, caregorie, annee, cote, kilometrage) et le retourne."
   ]
  },
  {
   "cell_type": "code",
   "execution_count": 47,
   "metadata": {
    "collapsed": true
   },
   "outputs": [],
   "source": [
    "def scrap_car(name,link):\n",
    "    car = {}\n",
    "    \n",
    "    car['name'] =  name\n",
    "    car['marque'] = marque\n",
    "    car['annee'] = millesime\n",
    "    car['categorie'] = categorie\n",
    "    \n",
    "    browser.get(link)\n",
    "    page = BeautifulSoup(browser.page_source)\n",
    "    \n",
    "    cote_car = page.find('span',{'class':\"clear lH20\"}).get_text()\n",
    "    car['modele'] = re.search('Audi (.+?) -', cote_car).group(1)\n",
    "    \n",
    "    cote_car = page.find('strong',{'class':\"f24 bGrey9L txtRed pL15 mL15\"}).get_text().strip().replace(\" \", \"\")\n",
    "    car['cote'] = re.findall(r'\\d+', cote_car)[0]\n",
    "    \n",
    "    car_km = page.find('div',{'class':\"f14 bold mT20 txtC\"}).get_text().strip().replace(\" \", \"\")\n",
    "    car['car_km'] = re.findall(r'\\d+', car_km)[0]\n",
    "    \n",
    "    #car_json = json.dumps(car, indent=4)\n",
    "    \n",
    "    return car"
   ]
  },
  {
   "cell_type": "markdown",
   "metadata": {},
   "source": [
    "###### Exemple :"
   ]
  },
  {
   "cell_type": "code",
   "execution_count": 18,
   "metadata": {
    "collapsed": false
   },
   "outputs": [
    {
     "name": "stdout",
     "output_type": "stream",
     "text": [
      "{\n",
      "    \"categorie\": \"40\", \n",
      "    \"name\": \"(2) SPORTBACK 1.0 TFSI 95 ULTRA\", \n",
      "    \"car_km\": \"15000\", \n",
      "    \"marque\": \"AUDI\", \n",
      "    \"cote\": \"13900\", \n",
      "    \"annee\": \"2014\", \n",
      "    \"modele\": \"A1\"\n",
      "}\n"
     ]
    }
   ],
   "source": [
    "audi = scrap_car('(2) SPORTBACK 1.0 TFSI 95 ULTRA','http://www.lacentrale.fr/cote-auto-audi-a1-(2)+sportback+1.0+tfsi+95+ultra-2014.html')\n",
    "print audi"
   ]
  },
  {
   "cell_type": "markdown",
   "metadata": {},
   "source": [
    "#### Connecion à la base de données MongoDb"
   ]
  },
  {
   "cell_type": "code",
   "execution_count": 38,
   "metadata": {
    "collapsed": true
   },
   "outputs": [],
   "source": [
    "from pymongo import MongoClient\n",
    "Client = MongoClient()\n",
    "db = Client[\"LaCentrale_DB\"]\n",
    "collection = db[\"cote_voitures\"]"
   ]
  },
  {
   "cell_type": "markdown",
   "metadata": {},
   "source": [
    "#### Extraction de toutes les versions de voitures de la marque Audi A1 et insertion dans la base de données"
   ]
  },
  {
   "cell_type": "code",
   "execution_count": 48,
   "metadata": {
    "collapsed": false
   },
   "outputs": [],
   "source": [
    "def load_links_scrap():\n",
    "    cr = csv.reader(open(\"links__cars.csv\",\"rb\"))\n",
    "    i=0\n",
    "    for line in cr:\n",
    "        print line[0]\n",
    "        if i%10==0 and i!=0:\n",
    "            print \"Je suis arrive à \" + str(i)\n",
    "            time.sleep(60)\n",
    "        car_info = scrap_car(line[0], \"http://www.lacentrale.fr/\" + line[1])\n",
    "        #print car_info\n",
    "        collection.insert(car_info)\n",
    "        #if i==0: break\n",
    "        print \"Voiture \"+ str(i) + \" a bien été extraite !\"\n",
    "        i=i+1\n",
    "    print \"Succés!\""
   ]
  },
  {
   "cell_type": "code",
   "execution_count": 49,
   "metadata": {
    "collapsed": false
   },
   "outputs": [
    {
     "name": "stdout",
     "output_type": "stream",
     "text": [
      "(2) SPORTBACK 1.0 TFSI 95 ULTRA\n",
      "Voiture 0 a bien été extraite !\n",
      "(2) SPORTBACK 1.0 TFSI 95 ULTRA AMBIENTE\n",
      "Voiture 1 a bien été extraite !\n",
      "(2) SPORTBACK 1.0 TFSI 95 ULTRA AMBIENTE S TRONIC\n",
      "Voiture 2 a bien été extraite !\n",
      "(2) SPORTBACK 1.0 TFSI 95 ULTRA AMBITION\n",
      "Voiture 3 a bien été extraite !\n",
      "(2) SPORTBACK 1.0 TFSI 95 ULTRA AMBITION LUXE\n",
      "Voiture 4 a bien été extraite !\n",
      "(2) SPORTBACK 1.0 TFSI 95 ULTRA AMBITION LUXE S TRONIC\n",
      "Voiture 5 a bien été extraite !\n",
      "(2) SPORTBACK 1.0 TFSI 95 ULTRA AMBITION S TRONIC\n",
      "Voiture 6 a bien été extraite !\n",
      "(2) SPORTBACK 1.0 TFSI 95 ULTRA BUSINESS LINE\n",
      "Voiture 7 a bien été extraite !\n",
      "(2) SPORTBACK 1.0 TFSI 95 ULTRA BUSINESS LINE S TRONIC\n",
      "Voiture 8 a bien été extraite !\n",
      "(2) SPORTBACK 1.0 TFSI 95 ULTRA S LINE\n",
      "Voiture 9 a bien été extraite !\n",
      "(2) SPORTBACK 1.0 TFSI 95 ULTRA S LINE S TRONIC\n",
      "Je suis arrive à 10\n",
      "Voiture 10 a bien été extraite !\n",
      "(2) SPORTBACK 1.0 TFSI 95 ULTRA S TRONIC\n",
      "Voiture 11 a bien été extraite !\n",
      "(2) SPORTBACK 1.4 TDI ULTRA 90\n",
      "Voiture 12 a bien été extraite !\n",
      "(2) SPORTBACK 1.4 TDI ULTRA 90 AMBIENTE\n",
      "Voiture 13 a bien été extraite !\n",
      "(2) SPORTBACK 1.4 TDI ULTRA 90 AMBIENTE S TRONIC\n",
      "Voiture 14 a bien été extraite !\n",
      "(2) SPORTBACK 1.4 TDI ULTRA 90 AMBITION\n",
      "Voiture 15 a bien été extraite !\n",
      "(2) SPORTBACK 1.4 TDI ULTRA 90 AMBITION LUXE\n",
      "Voiture 16 a bien été extraite !\n",
      "(2) SPORTBACK 1.4 TDI ULTRA 90 AMBITION LUXE S TRONIC\n",
      "Voiture 17 a bien été extraite !\n",
      "(2) SPORTBACK 1.4 TDI ULTRA 90 AMBITION S TRONIC\n",
      "Voiture 18 a bien été extraite !\n",
      "(2) SPORTBACK 1.4 TDI ULTRA 90 BUSINESS LINE\n",
      "Voiture 19 a bien été extraite !\n",
      "(2) SPORTBACK 1.4 TDI ULTRA 90 BUSINESS LINE S TRONIC\n",
      "Je suis arrive à 20\n",
      "Voiture 20 a bien été extraite !\n",
      "(2) SPORTBACK 1.4 TDI ULTRA 90 S LINE\n",
      "Voiture 21 a bien été extraite !\n",
      "(2) SPORTBACK 1.4 TDI ULTRA 90 S LINE S TRONIC\n",
      "Voiture 22 a bien été extraite !\n",
      "(2) SPORTBACK 1.4 TDI ULTRA 90 S TRONIC\n",
      "Voiture 23 a bien été extraite !\n",
      "(2) SPORTBACK 1.4 TFSI 125\n",
      "Voiture 24 a bien été extraite !\n",
      "(2) SPORTBACK 1.4 TFSI 125 AMBIENTE\n",
      "Voiture 25 a bien été extraite !\n",
      "(2) SPORTBACK 1.4 TFSI 125 AMBIENTE S TRONIC\n",
      "Voiture 26 a bien été extraite !\n",
      "(2) SPORTBACK 1.4 TFSI 125 AMBITION\n",
      "Voiture 27 a bien été extraite !\n",
      "(2) SPORTBACK 1.4 TFSI 125 AMBITION LUXE\n",
      "Voiture 28 a bien été extraite !\n",
      "(2) SPORTBACK 1.4 TFSI 125 AMBITION LUXE S TRONIC\n",
      "Voiture 29 a bien été extraite !\n",
      "(2) SPORTBACK 1.4 TFSI 125 AMBITION S TRONIC\n",
      "Je suis arrive à 30\n",
      "Voiture 30 a bien été extraite !\n",
      "(2) SPORTBACK 1.4 TFSI 125 BUSINESS LINE\n",
      "Voiture 31 a bien été extraite !\n",
      "(2) SPORTBACK 1.4 TFSI 125 BUSINESS LINE S TRONIC\n",
      "Voiture 32 a bien été extraite !\n",
      "(2) SPORTBACK 1.4 TFSI 125 S LINE\n",
      "Voiture 33 a bien été extraite !\n",
      "(2) SPORTBACK 1.4 TFSI 125 S LINE S TRONIC\n",
      "Voiture 34 a bien été extraite !\n",
      "(2) SPORTBACK 1.4 TFSI 125 S TRONIC\n",
      "Voiture 35 a bien été extraite !\n",
      "(2) SPORTBACK 1.4 TFSI 150 COD AMBITION BVM6\n",
      "Voiture 36 a bien été extraite !\n",
      "(2) SPORTBACK 1.4 TFSI 150 COD AMBITION LUXE\n",
      "Voiture 37 a bien été extraite !\n",
      "(2) SPORTBACK 1.4 TFSI 150 COD AMBITION LUXE S TRONIC\n",
      "Voiture 38 a bien été extraite !\n",
      "(2) SPORTBACK 1.4 TFSI 150 COD AMBITION S TRONIC\n",
      "Voiture 39 a bien été extraite !\n",
      "(2) SPORTBACK 1.4 TFSI 150 COD S LINE\n",
      "Je suis arrive à 40\n",
      "Voiture 40 a bien été extraite !\n",
      "(2) SPORTBACK 1.4 TFSI 150 COD S LINE S TRONIC\n",
      "Voiture 41 a bien été extraite !\n",
      "(2) SPORTBACK 1.4 TFSI COD 150 AMBIENTE\n",
      "Voiture 42 a bien été extraite !\n",
      "(2) SPORTBACK 1.4 TFSI COD 150 AMBIENTE S TRONIC\n",
      "Voiture 43 a bien été extraite !\n",
      "(2) SPORTBACK 1.6 TDI 116\n",
      "Voiture 44 a bien été extraite !\n",
      "(2) SPORTBACK 1.6 TDI 116 AMBIENTE\n",
      "Voiture 45 a bien été extraite !\n",
      "(2) SPORTBACK 1.6 TDI 116 AMBIENTE S TRONIC\n",
      "Voiture 46 a bien été extraite !\n",
      "(2) SPORTBACK 1.6 TDI 116 AMBITION\n",
      "Voiture 47 a bien été extraite !\n",
      "(2) SPORTBACK 1.6 TDI 116 AMBITION LUXE\n",
      "Voiture 48 a bien été extraite !\n",
      "(2) SPORTBACK 1.6 TDI 116 AMBITION LUXE S TRONIC\n",
      "Voiture 49 a bien été extraite !\n",
      "(2) SPORTBACK 1.6 TDI 116 AMBITION S TRONIC\n",
      "Je suis arrive à 50\n",
      "Voiture 50 a bien été extraite !\n",
      "(2) SPORTBACK 1.6 TDI 116 BUSINESS LINE\n",
      "Voiture 51 a bien été extraite !\n",
      "(2) SPORTBACK 1.6 TDI 116 BUSINESS LINE S TRONIC\n",
      "Voiture 52 a bien été extraite !\n",
      "(2) SPORTBACK 1.6 TDI 116 S LINE\n",
      "Voiture 53 a bien été extraite !\n",
      "(2) SPORTBACK 1.6 TDI 116 S LINE S TRONIC\n",
      "Voiture 54 a bien été extraite !\n",
      "(2) SPORTBACK 1.6 TDI 116 S TRONIC\n",
      "Voiture 55 a bien été extraite !\n",
      "(2) SPORTBACK 1.8 TFSI 192 AMBITION S TRONIC\n",
      "Voiture 56 a bien été extraite !\n",
      "1.2 TFSI 86 AMBIENTE\n",
      "Voiture 57 a bien été extraite !\n",
      "1.2 TFSI 86 AMBITION\n",
      "Voiture 58 a bien été extraite !\n",
      "1.2 TFSI 86 AMBITION LUXE\n",
      "Voiture 59 a bien été extraite !\n",
      "1.2 TFSI 86 ATTRACTION\n",
      "Je suis arrive à 60\n",
      "Voiture 60 a bien été extraite !\n",
      "1.2 TFSI 86 BUSINESS LINE\n",
      "Voiture 61 a bien été extraite !\n",
      "1.2 TFSI 86 S LINE\n",
      "Voiture 62 a bien été extraite !\n",
      "1.2 TFSI 86 URBAN SPORT\n",
      "Voiture 63 a bien été extraite !\n",
      "1.4 TFSI 122 AMBIENTE\n",
      "Voiture 64 a bien été extraite !\n",
      "1.4 TFSI 122 AMBIENTE S TRONIC\n",
      "Voiture 65 a bien été extraite !\n",
      "1.4 TFSI 122 AMBITION\n",
      "Voiture 66 a bien été extraite !\n",
      "1.4 TFSI 122 AMBITION LUXE\n",
      "Voiture 67 a bien été extraite !\n",
      "1.4 TFSI 122 AMBITION LUXE S TRONIC\n",
      "Voiture 68 a bien été extraite !\n",
      "1.4 TFSI 122 AMBITION S TRONIC\n",
      "Voiture 69 a bien été extraite !\n",
      "1.4 TFSI 122 AMPLIFIED\n",
      "Je suis arrive à 70\n",
      "Voiture 70 a bien été extraite !\n",
      "1.4 TFSI 122 AMPLIFIED S TRONIC 7\n",
      "Voiture 71 a bien été extraite !\n",
      "1.4 TFSI 122 ATTRACTION\n",
      "Voiture 72 a bien été extraite !\n",
      "1.4 TFSI 122 ATTRACTION S TRONIC\n",
      "Voiture 73 a bien été extraite !\n",
      "1.4 TFSI 122 BUSINESS LINE\n",
      "Voiture 74 a bien été extraite !\n",
      "1.4 TFSI 122 BUSINESS LINE S TRONIC\n",
      "Voiture 75 a bien été extraite !\n",
      "1.4 TFSI 122 S LINE\n",
      "Voiture 76 a bien été extraite !\n",
      "1.4 TFSI 122 S LINE S TRONIC\n",
      "Voiture 77 a bien été extraite !\n",
      "1.4 TFSI 140 COD 7 AMPLIFIED S TRONIC\n",
      "Voiture 78 a bien été extraite !\n",
      "1.4 TFSI 140 COD AMBITION BV6\n",
      "Voiture 79 a bien été extraite !\n",
      "1.4 TFSI 140 COD AMBITION LUXE BV6\n",
      "Je suis arrive à 80\n",
      "Voiture 80 a bien été extraite !\n",
      "1.4 TFSI 140 COD AMBITION LUXE S TRONIC\n",
      "Voiture 81 a bien été extraite !\n",
      "1.4 TFSI 140 COD AMBITION S TRONIC\n",
      "Voiture 82 a bien été extraite !\n",
      "1.4 TFSI 140 COD S LINE BV6\n",
      "Voiture 83 a bien été extraite !\n",
      "1.4 TFSI 140 COD S LINE S TRONIC\n",
      "Voiture 84 a bien été extraite !\n",
      "1.4 TFSI 185 AMBITION LUXE S TRONIC\n",
      "Voiture 85 a bien été extraite !\n",
      "1.4 TFSI 185 AMBITION S TRONIC\n",
      "Voiture 86 a bien été extraite !\n",
      "1.4 TFSI 185 AMPLIFIED S TRONIC\n",
      "Voiture 87 a bien été extraite !\n",
      "1.4 TFSI 185 S LINE S TRONIC\n",
      "Voiture 88 a bien été extraite !\n",
      "1.6 TDI 105 AMBIENTE\n",
      "Voiture 89 a bien été extraite !\n",
      "1.6 TDI 105 AMBITION\n",
      "Je suis arrive à 90\n",
      "Voiture 90 a bien été extraite !\n",
      "1.6 TDI 105 AMBITION LUXE\n",
      "Voiture 91 a bien été extraite !\n",
      "1.6 TDI 105 ATTRACTION\n",
      "Voiture 92 a bien été extraite !\n",
      "1.6 TDI 105 BUSINESS LINE\n",
      "Voiture 93 a bien été extraite !\n",
      "1.6 TDI 105 S LINE\n",
      "Voiture 94 a bien été extraite !\n",
      "1.6 TDI 90 AMBIENTE\n",
      "Voiture 95 a bien été extraite !\n",
      "1.6 TDI 90 AMBIENTE S TRONIC\n",
      "Voiture 96 a bien été extraite !\n",
      "1.6 TDI 90 AMBITION\n",
      "Voiture 97 a bien été extraite !\n",
      "1.6 TDI 90 AMBITION LUXE\n",
      "Voiture 98 a bien été extraite !\n",
      "1.6 TDI 90 AMBITION LUXE S TRONIC\n",
      "Voiture 99 a bien été extraite !\n",
      "1.6 TDI 90 AMBITION S TRONIC\n",
      "Je suis arrive à 100\n",
      "Voiture 100 a bien été extraite !\n",
      "1.6 TDI 90 ATTRACTION\n",
      "Voiture 101 a bien été extraite !\n",
      "1.6 TDI 90 ATTRACTION S TRONIC\n",
      "Voiture 102 a bien été extraite !\n",
      "1.6 TDI 90 BUSINESS LINE\n",
      "Voiture 103 a bien été extraite !\n",
      "1.6 TDI 90 BUSINESS LINE S TRONIC\n",
      "Voiture 104 a bien été extraite !\n",
      "1.6 TDI 90 S LINE\n",
      "Voiture 105 a bien été extraite !\n",
      "1.6 TDI 90 S LINE S TRONIC\n",
      "Voiture 106 a bien été extraite !\n",
      "1.6 TDI 90 URBAN SPORT\n",
      "Voiture 107 a bien été extraite !\n",
      "1.6 TDI 90 URBAN SPORT S TRONIC\n",
      "Voiture 108 a bien été extraite !\n",
      "2.0 TDI 143 AMBITION\n",
      "Voiture 109 a bien été extraite !\n",
      "2.0 TDI 143 AMBITION LUXE\n",
      "Je suis arrive à 110\n",
      "Voiture 110 a bien été extraite !\n",
      "2.0 TDI 143 AMPLIFIED\n",
      "Voiture 111 a bien été extraite !\n",
      "2.0 TDI 143 S LINE\n",
      "Voiture 112 a bien été extraite !\n",
      "SPORTBACK 1.2 TFSI 86 AMBIENTE\n",
      "Voiture 113 a bien été extraite !\n",
      "SPORTBACK 1.2 TFSI 86 AMBITION\n",
      "Voiture 114 a bien été extraite !\n",
      "SPORTBACK 1.2 TFSI 86 AMBITION LUXE\n",
      "Voiture 115 a bien été extraite !\n",
      "SPORTBACK 1.2 TFSI 86 ATTRACTION\n",
      "Voiture 116 a bien été extraite !\n",
      "SPORTBACK 1.2 TFSI 86 BUSINESS LINE\n",
      "Voiture 117 a bien été extraite !\n",
      "SPORTBACK 1.2 TFSI 86 S LINE\n",
      "Voiture 118 a bien été extraite !\n",
      "SPORTBACK 1.2 TFSI 86 URBAN SPORT\n",
      "Voiture 119 a bien été extraite !\n",
      "SPORTBACK 1.4 TFSI 122 AMBIENTE\n",
      "Je suis arrive à 120\n",
      "Voiture 120 a bien été extraite !\n",
      "SPORTBACK 1.4 TFSI 122 AMBIENTE S TRONIC\n",
      "Voiture 121 a bien été extraite !\n",
      "SPORTBACK 1.4 TFSI 122 AMBITION\n",
      "Voiture 122 a bien été extraite !\n",
      "SPORTBACK 1.4 TFSI 122 AMBITION LUXE\n",
      "Voiture 123 a bien été extraite !\n",
      "SPORTBACK 1.4 TFSI 122 AMBITION LUXE S TRONIC\n",
      "Voiture 124 a bien été extraite !\n",
      "SPORTBACK 1.4 TFSI 122 AMBITION S TRONIC\n",
      "Voiture 125 a bien été extraite !\n",
      "SPORTBACK 1.4 TFSI 122 AMPLIFIED\n",
      "Voiture 126 a bien été extraite !\n",
      "SPORTBACK 1.4 TFSI 122 AMPLIFIED S TRONIC 7\n",
      "Voiture 127 a bien été extraite !\n",
      "SPORTBACK 1.4 TFSI 122 ATTRACTION\n",
      "Voiture 128 a bien été extraite !\n",
      "SPORTBACK 1.4 TFSI 122 ATTRACTION S TRONIC\n",
      "Voiture 129 a bien été extraite !\n",
      "SPORTBACK 1.4 TFSI 122 BUSINESS LINE\n",
      "Je suis arrive à 130\n",
      "Voiture 130 a bien été extraite !\n",
      "SPORTBACK 1.4 TFSI 122 BUSINESS LINE S TRONIC\n",
      "Voiture 131 a bien été extraite !\n",
      "SPORTBACK 1.4 TFSI 122 S LINE\n",
      "Voiture 132 a bien été extraite !\n",
      "SPORTBACK 1.4 TFSI 122 S LINE S TRONIC\n",
      "Voiture 133 a bien été extraite !\n",
      "SPORTBACK 1.4 TFSI 140 COD AMBITION BVM6\n",
      "Voiture 134 a bien été extraite !\n",
      "SPORTBACK 1.4 TFSI 140 COD AMBITION LUXE BVM6\n",
      "Voiture 135 a bien été extraite !\n",
      "SPORTBACK 1.4 TFSI 140 COD AMBITION LUXE S TRONIC\n",
      "Voiture 136 a bien été extraite !\n",
      "SPORTBACK 1.4 TFSI 140 COD AMBITION S TRONIC\n",
      "Voiture 137 a bien été extraite !\n",
      "SPORTBACK 1.4 TFSI 140 COD AMPLIFIED S TRONIC 7\n",
      "Voiture 138 a bien été extraite !\n",
      "SPORTBACK 1.4 TFSI 140 COD S LINE BVM6\n",
      "Voiture 139 a bien été extraite !\n",
      "SPORTBACK 1.4 TFSI 140 COD S LINE S TRONIC\n",
      "Je suis arrive à 140\n",
      "Voiture 140 a bien été extraite !\n",
      "SPORTBACK 1.4 TFSI 185 AMBITION LUXE S TRONIC\n",
      "Voiture 141 a bien été extraite !\n",
      "SPORTBACK 1.4 TFSI 185 AMBITION S TRONIC\n",
      "Voiture 142 a bien été extraite !\n",
      "SPORTBACK 1.4 TFSI 185 AMPLIFIED S TRONIC 7\n",
      "Voiture 143 a bien été extraite !\n",
      "SPORTBACK 1.4 TFSI 185 S LINE S TRONIC\n",
      "Voiture 144 a bien été extraite !\n",
      "SPORTBACK 1.6 TDI 105 AMBIENTE\n",
      "Voiture 145 a bien été extraite !\n",
      "SPORTBACK 1.6 TDI 105 AMBITION\n",
      "Voiture 146 a bien été extraite !\n",
      "SPORTBACK 1.6 TDI 105 AMBITION LUXE\n",
      "Voiture 147 a bien été extraite !\n",
      "SPORTBACK 1.6 TDI 105 ATTRACTION\n",
      "Voiture 148 a bien été extraite !\n",
      "SPORTBACK 1.6 TDI 105 BUSINESS LINE\n",
      "Voiture 149 a bien été extraite !\n",
      "SPORTBACK 1.6 TDI 105 S LINE\n",
      "Je suis arrive à 150\n",
      "Voiture 150 a bien été extraite !\n",
      "SPORTBACK 1.6 TDI 90 AMBIENTE\n",
      "Voiture 151 a bien été extraite !\n",
      "SPORTBACK 1.6 TDI 90 AMBIENTE S TRONIC\n",
      "Voiture 152 a bien été extraite !\n",
      "SPORTBACK 1.6 TDI 90 AMBITION\n",
      "Voiture 153 a bien été extraite !\n",
      "SPORTBACK 1.6 TDI 90 AMBITION LUXE\n",
      "Voiture 154 a bien été extraite !\n",
      "SPORTBACK 1.6 TDI 90 AMBITION LUXE S TRONIC\n",
      "Voiture 155 a bien été extraite !\n",
      "SPORTBACK 1.6 TDI 90 AMBITION S TRONIC\n",
      "Voiture 156 a bien été extraite !\n",
      "SPORTBACK 1.6 TDI 90 ATTRACTION\n",
      "Voiture 157 a bien été extraite !\n",
      "SPORTBACK 1.6 TDI 90 ATTRACTION S TRONIC\n",
      "Voiture 158 a bien été extraite !\n",
      "SPORTBACK 1.6 TDI 90 BUSINESS LINE\n",
      "Voiture 159 a bien été extraite !\n",
      "SPORTBACK 1.6 TDI 90 BUSINESS LINE S TRONIC\n",
      "Je suis arrive à 160\n",
      "Voiture 160 a bien été extraite !\n",
      "SPORTBACK 1.6 TDI 90 S LINE\n",
      "Voiture 161 a bien été extraite !\n",
      "SPORTBACK 1.6 TDI 90 S LINE S TRONIC\n",
      "Voiture 162 a bien été extraite !\n",
      "SPORTBACK 1.6 TDI 90 URBAN SPORT\n",
      "Voiture 163 a bien été extraite !\n",
      "SPORTBACK 1.6 TDI 90 URBAN SPORT S TRONIC\n",
      "Voiture 164 a bien été extraite !\n",
      "SPORTBACK 2.0 TDI 143 AMBITION\n",
      "Voiture 165 a bien été extraite !\n",
      "SPORTBACK 2.0 TDI 143 AMBITION LUXE\n",
      "Voiture 166 a bien été extraite !\n",
      "SPORTBACK 2.0 TDI 143 AMPLIFIED\n",
      "Voiture 167 a bien été extraite !\n",
      "SPORTBACK 2.0 TDI 143 S LINE\n",
      "Voiture 168 a bien été extraite !\n",
      "Succés!\n"
     ]
    },
    {
     "name": "stderr",
     "output_type": "stream",
     "text": [
      "C:\\Users\\TONPC\\Anaconda2\\lib\\site-packages\\ipykernel\\__main__.py:11: DeprecationWarning: insert is deprecated. Use insert_one or insert_many instead.\n"
     ]
    }
   ],
   "source": [
    "load_links_scrap()"
   ]
  },
  {
   "cell_type": "markdown",
   "metadata": {},
   "source": [
    "###### On s'assure que la base de données est bien rempli"
   ]
  },
  {
   "cell_type": "code",
   "execution_count": 53,
   "metadata": {
    "collapsed": false
   },
   "outputs": [
    {
     "name": "stdout",
     "output_type": "stream",
     "text": [
      "Le nombre de voitures stockés : 169\n"
     ]
    }
   ],
   "source": [
    "print \"Le nombre de voitures stockés : \" + str(collection.count())"
   ]
  }
 ],
 "metadata": {
  "kernelspec": {
   "display_name": "Python 2",
   "language": "python",
   "name": "python2"
  },
  "language_info": {
   "codemirror_mode": {
    "name": "ipython",
    "version": 2
   },
   "file_extension": ".py",
   "mimetype": "text/x-python",
   "name": "python",
   "nbconvert_exporter": "python",
   "pygments_lexer": "ipython2",
   "version": "2.7.11"
  }
 },
 "nbformat": 4,
 "nbformat_minor": 0
}
